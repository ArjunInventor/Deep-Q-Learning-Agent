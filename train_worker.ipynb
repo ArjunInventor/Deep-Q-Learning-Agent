{
  "nbformat": 4,
  "nbformat_minor": 0,
  "metadata": {
    "colab": {
      "name": "train_worker.ipynb",
      "provenance": [],
      "authorship_tag": "ABX9TyMfkuL0iNQNcipdhRyUzaie"
    },
    "kernelspec": {
      "name": "python3",
      "display_name": "Python 3"
    }
  },
  "cells": [
    {
      "cell_type": "code",
      "metadata": {
        "id": "JNt38HdEoAGh",
        "colab_type": "code",
        "colab": {}
      },
      "source": [
        "#@title Clone Repository\n",
        "repo = \"arjuninventor\" #@param [\"arjuninventor\", \"lawrathod\"]\n",
        "!git clone https://github.com/$repo/Deep-Q-Learning-Agent\n",
        "!mv Deep-Q-Learning-Agent/* .\n",
        "!rm -R Deep-Q-Learning-Agent\n",
        "!mkdir models"
      ],
      "execution_count": 0,
      "outputs": []
    },
    {
      "cell_type": "code",
      "execution_count": null,
      "metadata": {},
      "outputs": [],
      "source": [
        "!pip install -r requirements.txt"
      ]
    },
    {
      "cell_type": "code",
      "execution_count": null,
      "metadata": {},
      "outputs": [],
      "source": [
        "!python train_worker.py \\\n",
        "                        --master-endpoint \"\" \\\n",
        "                        --worker-name colab-worker-1 \\\n",
        "                        "
      ]
    }
  ]
}