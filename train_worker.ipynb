{
  "nbformat": 4,
  "nbformat_minor": 0,
  "metadata": {
    "colab": {
      "name": "train_worker.ipynb",
      "provenance": [],
      "authorship_tag": "ABX9TyMfkuL0iNQNcipdhRyUzaie"
    },
    "kernelspec": {
      "name": "python3",
      "display_name": "Python 3"
    }
  },
  "cells": [
    {
      "cell_type": "code",
      "metadata": {
        "id": "JNt38HdEoAGh",
        "colab_type": "code",
        "colab": {
          "base_uri": "https://localhost:8080/",
          "height": 150
        },
        "outputId": "35ac0b36-0aa2-40cf-a21f-cb2d398832db"
      },
      "source": [
        "#@title Clone Repository\n",
        "repo = \"arjuninventor\" #@param [\"arjuninventor\", \"lawrathod\"]\n",
        "!git clone https://github.com/$repo/Deep-Q-Learning-Agent\n",
        "!mv Deep-Q-Learning-Agent/* .\n",
        "!rm -R Deep-Q-Learning-Agent"
      ],
      "execution_count": 22,
      "outputs": [
        {
          "output_type": "stream",
          "text": [
            "Cloning into 'Deep-Q-Learning-Agent'...\n",
            "remote: Enumerating objects: 45, done.\u001b[K\n",
            "remote: Counting objects:   2% (1/45)\u001b[K\rremote: Counting objects:   4% (2/45)\u001b[K\rremote: Counting objects:   6% (3/45)\u001b[K\rremote: Counting objects:   8% (4/45)\u001b[K\rremote: Counting objects:  11% (5/45)\u001b[K\rremote: Counting objects:  13% (6/45)\u001b[K\rremote: Counting objects:  15% (7/45)\u001b[K\rremote: Counting objects:  17% (8/45)\u001b[K\rremote: Counting objects:  20% (9/45)\u001b[K\rremote: Counting objects:  22% (10/45)\u001b[K\rremote: Counting objects:  24% (11/45)\u001b[K\rremote: Counting objects:  26% (12/45)\u001b[K\rremote: Counting objects:  28% (13/45)\u001b[K\rremote: Counting objects:  31% (14/45)\u001b[K\rremote: Counting objects:  33% (15/45)\u001b[K\rremote: Counting objects:  35% (16/45)\u001b[K\rremote: Counting objects:  37% (17/45)\u001b[K\rremote: Counting objects:  40% (18/45)\u001b[K\rremote: Counting objects:  42% (19/45)\u001b[K\rremote: Counting objects:  44% (20/45)\u001b[K\rremote: Counting objects:  46% (21/45)\u001b[K\rremote: Counting objects:  48% (22/45)\u001b[K\rremote: Counting objects:  51% (23/45)\u001b[K\rremote: Counting objects:  53% (24/45)\u001b[K\rremote: Counting objects:  55% (25/45)\u001b[K\rremote: Counting objects:  57% (26/45)\u001b[K\rremote: Counting objects:  60% (27/45)\u001b[K\rremote: Counting objects:  62% (28/45)\u001b[K\rremote: Counting objects:  64% (29/45)\u001b[K\rremote: Counting objects:  66% (30/45)\u001b[K\rremote: Counting objects:  68% (31/45)\u001b[K\rremote: Counting objects:  71% (32/45)\u001b[K\rremote: Counting objects:  73% (33/45)\u001b[K\rremote: Counting objects:  75% (34/45)\u001b[K\rremote: Counting objects:  77% (35/45)\u001b[K\rremote: Counting objects:  80% (36/45)\u001b[K\rremote: Counting objects:  82% (37/45)\u001b[K\rremote: Counting objects:  84% (38/45)\u001b[K\rremote: Counting objects:  86% (39/45)\u001b[K\rremote: Counting objects:  88% (40/45)\u001b[K\rremote: Counting objects:  91% (41/45)\u001b[K\rremote: Counting objects:  93% (42/45)\u001b[K\rremote: Counting objects:  95% (43/45)\u001b[K\rremote: Counting objects:  97% (44/45)\u001b[K\rremote: Counting objects: 100% (45/45)\u001b[K\rremote: Counting objects: 100% (45/45), done.\u001b[K\n",
            "remote: Compressing objects:   3% (1/31)\u001b[K\rremote: Compressing objects:   6% (2/31)\u001b[K\rremote: Compressing objects:   9% (3/31)\u001b[K\rremote: Compressing objects:  12% (4/31)\u001b[K\rremote: Compressing objects:  16% (5/31)\u001b[K\rremote: Compressing objects:  19% (6/31)\u001b[K\rremote: Compressing objects:  22% (7/31)\u001b[K\rremote: Compressing objects:  25% (8/31)\u001b[K\rremote: Compressing objects:  29% (9/31)\u001b[K\rremote: Compressing objects:  32% (10/31)\u001b[K\rremote: Compressing objects:  35% (11/31)\u001b[K\rremote: Compressing objects:  38% (12/31)\u001b[K\rremote: Compressing objects:  41% (13/31)\u001b[K\rremote: Compressing objects:  45% (14/31)\u001b[K\rremote: Compressing objects:  48% (15/31)\u001b[K\rremote: Compressing objects:  51% (16/31)\u001b[K\rremote: Compressing objects:  54% (17/31)\u001b[K\rremote: Compressing objects:  58% (18/31)\u001b[K\rremote: Compressing objects:  61% (19/31)\u001b[K\rremote: Compressing objects:  64% (20/31)\u001b[K\rremote: Compressing objects:  67% (21/31)\u001b[K\rremote: Compressing objects:  70% (22/31)\u001b[K\rremote: Compressing objects:  74% (23/31)\u001b[K\rremote: Compressing objects:  77% (24/31)\u001b[K\rremote: Compressing objects:  80% (25/31)\u001b[K\rremote: Compressing objects:  83% (26/31)\u001b[K\rremote: Compressing objects:  87% (27/31)\u001b[K\rremote: Compressing objects:  90% (28/31)\u001b[K\rremote: Compressing objects:  93% (29/31)\u001b[K\rremote: Compressing objects:  96% (30/31)\u001b[K\rremote: Compressing objects: 100% (31/31)\u001b[K\rremote: Compressing objects: 100% (31/31), done.\u001b[K\n",
            "Unpacking objects:   2% (1/45)   \rremote: Total 45 (delta 19), reused 37 (delta 12), pack-reused 0\u001b[K\n",
            "Unpacking objects:   4% (2/45)   \rUnpacking objects:   6% (3/45)   \rUnpacking objects:   8% (4/45)   \rUnpacking objects:  11% (5/45)   \rUnpacking objects:  13% (6/45)   \rUnpacking objects:  15% (7/45)   \rUnpacking objects:  17% (8/45)   \rUnpacking objects:  20% (9/45)   \rUnpacking objects:  22% (10/45)   \rUnpacking objects:  24% (11/45)   \rUnpacking objects:  26% (12/45)   \rUnpacking objects:  28% (13/45)   \rUnpacking objects:  31% (14/45)   \rUnpacking objects:  33% (15/45)   \rUnpacking objects:  35% (16/45)   \rUnpacking objects:  37% (17/45)   \rUnpacking objects:  40% (18/45)   \rUnpacking objects:  42% (19/45)   \rUnpacking objects:  44% (20/45)   \rUnpacking objects:  46% (21/45)   \rUnpacking objects:  48% (22/45)   \rUnpacking objects:  51% (23/45)   \rUnpacking objects:  53% (24/45)   \rUnpacking objects:  55% (25/45)   \rUnpacking objects:  57% (26/45)   \rUnpacking objects:  60% (27/45)   \rUnpacking objects:  62% (28/45)   \rUnpacking objects:  64% (29/45)   \rUnpacking objects:  66% (30/45)   \rUnpacking objects:  68% (31/45)   \rUnpacking objects:  71% (32/45)   \rUnpacking objects:  73% (33/45)   \rUnpacking objects:  75% (34/45)   \rUnpacking objects:  77% (35/45)   \rUnpacking objects:  80% (36/45)   \rUnpacking objects:  82% (37/45)   \rUnpacking objects:  84% (38/45)   \rUnpacking objects:  86% (39/45)   \rUnpacking objects:  88% (40/45)   \rUnpacking objects:  91% (41/45)   \rUnpacking objects:  93% (42/45)   \rUnpacking objects:  95% (43/45)   \rUnpacking objects:  97% (44/45)   \rUnpacking objects: 100% (45/45)   \rUnpacking objects: 100% (45/45), done.\n",
            "mv: cannot move 'Deep-Q-Learning-Agent/envs' to './envs': Directory not empty\n"
          ],
          "name": "stdout"
        }
      ]
    },
    {
      "cell_type": "code",
      "metadata": {
        "id": "23YQzdw_nHAV",
        "colab_type": "code",
        "colab": {
          "base_uri": "https://localhost:8080/",
          "height": 537
        },
        "outputId": "5f19f63e-d43f-443b-f57e-657b370dc6dc"
      },
      "source": [
        "import numpy as np\n",
        "import requests\n",
        "import datetime\n",
        "from collections import deque\n",
        "from envs.rover_lander_1 import rover_lander_1\n",
        "import tqdm\n",
        "import tensorflow as tf"
      ],
      "execution_count": 20,
      "outputs": [
        {
          "output_type": "error",
          "ename": "ModuleNotFoundError",
          "evalue": "ignored",
          "traceback": [
            "\u001b[0;31m---------------------------------------------------------------------------\u001b[0m",
            "\u001b[0;31mModuleNotFoundError\u001b[0m                       Traceback (most recent call last)",
            "\u001b[0;32m<ipython-input-20-98188720405e>\u001b[0m in \u001b[0;36m<module>\u001b[0;34m()\u001b[0m\n\u001b[1;32m      3\u001b[0m \u001b[0;32mimport\u001b[0m \u001b[0mdatetime\u001b[0m\u001b[0;34m\u001b[0m\u001b[0;34m\u001b[0m\u001b[0m\n\u001b[1;32m      4\u001b[0m \u001b[0;32mfrom\u001b[0m \u001b[0mcollections\u001b[0m \u001b[0;32mimport\u001b[0m \u001b[0mdeque\u001b[0m\u001b[0;34m\u001b[0m\u001b[0;34m\u001b[0m\u001b[0m\n\u001b[0;32m----> 5\u001b[0;31m \u001b[0;32mfrom\u001b[0m \u001b[0menvs\u001b[0m\u001b[0;34m.\u001b[0m\u001b[0mrover_lander_1\u001b[0m \u001b[0;32mimport\u001b[0m \u001b[0mrover_lander_1\u001b[0m\u001b[0;34m\u001b[0m\u001b[0;34m\u001b[0m\u001b[0m\n\u001b[0m\u001b[1;32m      6\u001b[0m \u001b[0;32mimport\u001b[0m \u001b[0mtqdm\u001b[0m\u001b[0;34m\u001b[0m\u001b[0;34m\u001b[0m\u001b[0m\n\u001b[1;32m      7\u001b[0m \u001b[0;32mimport\u001b[0m \u001b[0mtensorflow\u001b[0m \u001b[0;32mas\u001b[0m \u001b[0mtf\u001b[0m\u001b[0;34m\u001b[0m\u001b[0;34m\u001b[0m\u001b[0m\n",
            "\u001b[0;32m/content/envs/rover_lander_1.py\u001b[0m in \u001b[0;36m<module>\u001b[0;34m()\u001b[0m\n\u001b[1;32m      4\u001b[0m     \u001b[0;32mfrom\u001b[0m \u001b[0mcore\u001b[0m \u001b[0;32mimport\u001b[0m \u001b[0mEnv\u001b[0m\u001b[0;34m\u001b[0m\u001b[0;34m\u001b[0m\u001b[0m\n\u001b[1;32m      5\u001b[0m \u001b[0;34m\u001b[0m\u001b[0m\n\u001b[0;32m----> 6\u001b[0;31m \u001b[0;32mimport\u001b[0m \u001b[0mpygame\u001b[0m\u001b[0;34m\u001b[0m\u001b[0;34m\u001b[0m\u001b[0m\n\u001b[0m\u001b[1;32m      7\u001b[0m \u001b[0;32mimport\u001b[0m \u001b[0mmath\u001b[0m\u001b[0;34m\u001b[0m\u001b[0;34m\u001b[0m\u001b[0m\n\u001b[1;32m      8\u001b[0m \u001b[0;32mimport\u001b[0m \u001b[0mrandom\u001b[0m\u001b[0;34m\u001b[0m\u001b[0;34m\u001b[0m\u001b[0m\n",
            "\u001b[0;31mModuleNotFoundError\u001b[0m: No module named 'pygame'",
            "",
            "\u001b[0;31m---------------------------------------------------------------------------\u001b[0;32m\nNOTE: If your import is failing due to a missing package, you can\nmanually install dependencies using either !pip or !apt.\n\nTo view examples of installing some common dependencies, click the\n\"Open Examples\" button below.\n\u001b[0;31m---------------------------------------------------------------------------\u001b[0m\n"
          ]
        }
      ]
    },
    {
      "cell_type": "code",
      "metadata": {
        "id": "8-7jcWXPnmxq",
        "colab_type": "code",
        "colab": {}
      },
      "source": [
        "MASTER_ENDPOINT = \"localhost:5000\"\n",
        "WORKER_NAME = \"\"\n",
        "MAX_EPISODES = 5_000\n",
        "SHOW_PREVIEW = True\n",
        "AGGREGATE_STATS_EVERY = 10\n",
        "\n",
        "TRAIN_PARAMS = {}\n",
        "\n",
        "id = None"
      ],
      "execution_count": 0,
      "outputs": []
    },
    {
      "cell_type": "code",
      "metadata": {
        "id": "wrDq0XZ8npZK",
        "colab_type": "code",
        "colab": {}
      },
      "source": [
        "def connect():\n",
        "    id = int(requests.get(MASTER_ENDPOINT + f\"/master/connect?worker_name={WORKER_NAME}&max_episodes={MAX_EPISODES}&current_episode=0\"))\n",
        "    \n",
        "def update(properties=[]):\n",
        "    requests.get(MASTER_ENDPOINT + f\"/master/update?id={id}\" + \"&\".join(properties[0] + \"=\" + properties[1]))\n",
        "    \n",
        "def send_model(model_path):\n",
        "    files = {'model': open(model_path,'rb')}\n",
        "    r = requests.post(MASTER_ENDPOINT + f\"/master/send_model?id={id}\", files=files)"
      ],
      "execution_count": 0,
      "outputs": []
    },
    {
      "cell_type": "code",
      "metadata": {
        "id": "p5_7Kho5nrNl",
        "colab_type": "code",
        "colab": {
          "base_uri": "https://localhost:8080/",
          "height": 252
        },
        "outputId": "e51f62eb-a906-4a14-fd01-afae149e60cc"
      },
      "source": [
        "class customCallback(tf.keras.callbacks.Callback): \n",
        "    def on_epoch_end(self, epoch, logs={}): \n",
        "        update((\"acc\", logs.get('acc')),\n",
        "                (\"loss\", logs.get('loss')),\n",
        "                (\"mse\", logs.get('mse')),\n",
        "                (\"epocs\", epoch))\n",
        "                \n",
        "    def on_train_end(self, logs=None):\n",
        "        update((\"last_trained\", \"curr_time\"))"
      ],
      "execution_count": 21,
      "outputs": [
        {
          "output_type": "error",
          "ename": "NameError",
          "evalue": "ignored",
          "traceback": [
            "\u001b[0;31m---------------------------------------------------------------------------\u001b[0m",
            "\u001b[0;31mNameError\u001b[0m                                 Traceback (most recent call last)",
            "\u001b[0;32m<ipython-input-21-d275a5825b22>\u001b[0m in \u001b[0;36m<module>\u001b[0;34m()\u001b[0m\n\u001b[0;32m----> 1\u001b[0;31m \u001b[0;32mclass\u001b[0m \u001b[0mcustomCallback\u001b[0m\u001b[0;34m(\u001b[0m\u001b[0mtf\u001b[0m\u001b[0;34m.\u001b[0m\u001b[0mkeras\u001b[0m\u001b[0;34m.\u001b[0m\u001b[0mcallbacks\u001b[0m\u001b[0;34m.\u001b[0m\u001b[0mCallback\u001b[0m\u001b[0;34m)\u001b[0m\u001b[0;34m:\u001b[0m\u001b[0;34m\u001b[0m\u001b[0;34m\u001b[0m\u001b[0m\n\u001b[0m\u001b[1;32m      2\u001b[0m     \u001b[0;32mdef\u001b[0m \u001b[0mon_epoch_end\u001b[0m\u001b[0;34m(\u001b[0m\u001b[0mself\u001b[0m\u001b[0;34m,\u001b[0m \u001b[0mepoch\u001b[0m\u001b[0;34m,\u001b[0m \u001b[0mlogs\u001b[0m\u001b[0;34m=\u001b[0m\u001b[0;34m{\u001b[0m\u001b[0;34m}\u001b[0m\u001b[0;34m)\u001b[0m\u001b[0;34m:\u001b[0m\u001b[0;34m\u001b[0m\u001b[0;34m\u001b[0m\u001b[0m\n\u001b[1;32m      3\u001b[0m         update((\"acc\", logs.get('acc')),\n\u001b[1;32m      4\u001b[0m                 \u001b[0;34m(\u001b[0m\u001b[0;34m\"loss\"\u001b[0m\u001b[0;34m,\u001b[0m \u001b[0mlogs\u001b[0m\u001b[0;34m.\u001b[0m\u001b[0mget\u001b[0m\u001b[0;34m(\u001b[0m\u001b[0;34m'loss'\u001b[0m\u001b[0;34m)\u001b[0m\u001b[0;34m)\u001b[0m\u001b[0;34m,\u001b[0m\u001b[0;34m\u001b[0m\u001b[0;34m\u001b[0m\u001b[0m\n\u001b[1;32m      5\u001b[0m                 \u001b[0;34m(\u001b[0m\u001b[0;34m\"mse\"\u001b[0m\u001b[0;34m,\u001b[0m \u001b[0mlogs\u001b[0m\u001b[0;34m.\u001b[0m\u001b[0mget\u001b[0m\u001b[0;34m(\u001b[0m\u001b[0;34m'mse'\u001b[0m\u001b[0;34m)\u001b[0m\u001b[0;34m)\u001b[0m\u001b[0;34m,\u001b[0m\u001b[0;34m\u001b[0m\u001b[0;34m\u001b[0m\u001b[0m\n",
            "\u001b[0;31mNameError\u001b[0m: name 'tf' is not defined"
          ]
        }
      ]
    },
    {
      "cell_type": "code",
      "metadata": {
        "id": "sDdRPvepns_m",
        "colab_type": "code",
        "colab": {}
      },
      "source": [
        "class Agent:\n",
        "    def __init__(self):\n",
        "        self.epsilon = 1.0\n",
        "        self.epsilon_decay = .996\n",
        "        self.memory = deque(maxlen=1000000)\n",
        "        self.model = self.build_model()\n",
        "    \n",
        "    def create_model(self):\n",
        "        pass\n",
        "    \n",
        "    def save_model(self, local_only=True):\n",
        "        self.model.save(f\"saved_model/{WORKER_NAME}.h5\")\n",
        "        if not local_only:\n",
        "            send_model(f\"saved_model/{WORKER_NAME}.h5\")\n",
        "    \n",
        "    def update_replay_memory(self):\n",
        "        pass\n",
        "    \n",
        "    def train(self):\n",
        "        pass\n",
        "    \n",
        "    def qs(self):\n",
        "        pass"
      ],
      "execution_count": 0,
      "outputs": []
    },
    {
      "cell_type": "code",
      "metadata": {
        "id": "p4ThuaEf0sBl",
        "colab_type": "code",
        "colab": {
          "base_uri": "https://localhost:8080/",
          "height": 195
        },
        "outputId": "da141085-282f-4fd5-ddf3-a4a1de7d7c6b"
      },
      "source": [
        "env = rover_lander_1()\n",
        "agent = Agent()"
      ],
      "execution_count": 24,
      "outputs": [
        {
          "output_type": "error",
          "ename": "NameError",
          "evalue": "ignored",
          "traceback": [
            "\u001b[0;31m---------------------------------------------------------------------------\u001b[0m",
            "\u001b[0;31mNameError\u001b[0m                                 Traceback (most recent call last)",
            "\u001b[0;32m<ipython-input-24-b367b1e32436>\u001b[0m in \u001b[0;36m<module>\u001b[0;34m()\u001b[0m\n\u001b[0;32m----> 1\u001b[0;31m \u001b[0menv\u001b[0m \u001b[0;34m=\u001b[0m \u001b[0mrover_lander_1\u001b[0m\u001b[0;34m(\u001b[0m\u001b[0;34m)\u001b[0m\u001b[0;34m\u001b[0m\u001b[0;34m\u001b[0m\u001b[0m\n\u001b[0m\u001b[1;32m      2\u001b[0m \u001b[0magent\u001b[0m \u001b[0;34m=\u001b[0m \u001b[0mAgent\u001b[0m\u001b[0;34m(\u001b[0m\u001b[0;34m)\u001b[0m\u001b[0;34m\u001b[0m\u001b[0;34m\u001b[0m\u001b[0m\n",
            "\u001b[0;31mNameError\u001b[0m: name 'rover_lander_1' is not defined"
          ]
        }
      ]
    },
    {
      "cell_type": "code",
      "metadata": {
        "id": "l9k3l9Wh0s0k",
        "colab_type": "code",
        "colab": {}
      },
      "source": [
        "for episode in tqdm(range(0, MAX_EPISODES), ascii=True, unit='episodes'):\n",
        "    # episode_reward = 0\n",
        "    # step = 1\n",
        "    # current_state = env.reset()\n",
        "    # done = False\n",
        "    # while not done:\n",
        "    #     if np.random.random() > agent.epsilon:\n",
        "    #         action = np.argmax(agent.get_qs(current_state))\n",
        "    #     else:\n",
        "    #         action = env.random_action_sample()\n",
        "            \n",
        "    # new_state, reward, done = env.step(action)\n",
        "    # episode_reward += reward\n",
        "    \n",
        "    # if SHOW_PREVIEW and not episode % AGGREGATE_STATS_EVERY:\n",
        "    #         env.render()"
      ],
      "execution_count": 0,
      "outputs": []
    }
  ]
}